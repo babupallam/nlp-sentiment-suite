{
 "cells": [
  {
   "cell_type": "code",
   "id": "initial_id",
   "metadata": {
    "collapsed": true,
    "ExecuteTime": {
     "end_time": "2024-11-26T23:35:08.181081Z",
     "start_time": "2024-11-26T23:35:08.161567Z"
    }
   },
   "source": "",
   "outputs": [],
   "execution_count": null
  },
  {
   "metadata": {},
   "cell_type": "markdown",
   "source": "",
   "id": "2e661ee5c593ef4c"
  },
  {
   "metadata": {
    "ExecuteTime": {
     "end_time": "2024-11-26T23:29:52.340808Z",
     "start_time": "2024-11-26T23:29:51.035408Z"
    }
   },
   "cell_type": "code",
   "source": [
    "# Import necessary libraries\n",
    "import pandas as pd\n",
    "from sklearn.feature_extraction.text import TfidfVectorizer\n",
    "from sklearn.linear_model import LogisticRegression\n",
    "from sklearn.naive_bayes import MultinomialNB\n",
    "from sklearn.svm import SVC\n",
    "from sklearn.metrics import accuracy_score, f1_score, precision_score, recall_score, classification_report\n",
    "from sklearn.model_selection import train_test_split\n",
    "\n",
    "# Define file paths for data and model saving\n",
    "data_path = \"../data/\"\n",
    "train_file = data_path + \"train_data.csv\"\n",
    "val_file = data_path + \"val_data.csv\"\n",
    "model_save_path = \"../models/\"\n"
   ],
   "id": "af8eda0520d2bb67",
   "outputs": [],
   "execution_count": 1
  },
  {
   "metadata": {},
   "cell_type": "markdown",
   "source": "",
   "id": "1bd9a3f6b48b4d62"
  },
  {
   "metadata": {
    "ExecuteTime": {
     "end_time": "2024-11-26T23:29:54.049321Z",
     "start_time": "2024-11-26T23:29:53.137693Z"
    }
   },
   "cell_type": "code",
   "source": [
    "\n",
    "# Load training and validation data\n",
    "def load_data(train_path, val_path):\n",
    "    \"\"\"\n",
    "    Load training and validation data from CSV files.\n",
    "    \"\"\"\n",
    "    return pd.read_csv(train_path), pd.read_csv(val_path)\n",
    "\n",
    "# Load the data into DataFrames\n",
    "train_df, val_df = load_data(train_file, val_file)\n",
    "\n",
    "# Handle missing values in 'clean_text'\n",
    "train_df = train_df.dropna(subset=['clean_text'])\n",
    "val_df = val_df.dropna(subset=['clean_text'])\n",
    "\n",
    "# Extract features and labels\n",
    "X_train, y_train = train_df['clean_text'], train_df['category']\n",
    "X_val, y_val = val_df['clean_text'], val_df['category']"
   ],
   "id": "44620d5dfa1bc942",
   "outputs": [],
   "execution_count": 2
  },
  {
   "metadata": {},
   "cell_type": "markdown",
   "source": "",
   "id": "d91faaeaf511a75b"
  },
  {
   "metadata": {
    "ExecuteTime": {
     "end_time": "2024-11-26T23:30:05.524781Z",
     "start_time": "2024-11-26T23:29:55.207867Z"
    }
   },
   "cell_type": "code",
   "source": [
    "\n",
    "# Convert text into TF-IDF features\n",
    "def vectorize_text(X_train, X_val):\n",
    "    \"\"\"\n",
    "    Vectorize text data using TF-IDF.\n",
    "    \"\"\"\n",
    "    vectorizer = TfidfVectorizer(max_features=10000, ngram_range=(1, 2))  # Unigrams and bigrams\n",
    "    X_train_tfidf = vectorizer.fit_transform(X_train)\n",
    "    X_val_tfidf = vectorizer.transform(X_val)\n",
    "    return X_train_tfidf, X_val_tfidf, vectorizer\n",
    "\n",
    "# Apply vectorization to training and validation data\n",
    "X_train_tfidf, X_val_tfidf, tfidf_vectorizer = vectorize_text(X_train, X_val)"
   ],
   "id": "5f59c67be362ea78",
   "outputs": [],
   "execution_count": 3
  },
  {
   "metadata": {},
   "cell_type": "markdown",
   "source": "",
   "id": "587b3ab05b6a9245"
  },
  {
   "metadata": {
    "jupyter": {
     "is_executing": true
    },
    "ExecuteTime": {
     "start_time": "2024-11-26T23:03:52.501523Z"
    }
   },
   "cell_type": "code",
   "source": [
    "# Train and evaluate baseline models: Logistic Regression, Naive Bayes, SVM\n",
    "def train_baseline_models(X_train, y_train, X_val, y_val):\n",
    "    \"\"\"\n",
    "    Train and evaluate baseline models: Logistic Regression, Naive Bayes, SVM.\n",
    "    \"\"\"\n",
    "    models = {\n",
    "        \"Logistic Regression\": LogisticRegression(max_iter=500),\n",
    "        \"Naive Bayes\": MultinomialNB(),\n",
    "        \"SVM\": SVC(kernel='linear', probability=True)\n",
    "    }\n",
    "    results = {}\n",
    "\n",
    "    for model_name, model in models.items():\n",
    "        print(f\"\\nTraining {model_name}...\")\n",
    "        \n",
    "        # Fit model to training data\n",
    "        model.fit(X_train, y_train)\n",
    "        \n",
    "        # Make predictions on validation set\n",
    "        y_val_preds = model.predict(X_val)\n",
    "\n",
    "        # Calculate metrics\n",
    "        results[model_name] = {\n",
    "            \"Accuracy\": accuracy_score(y_val, y_val_preds),\n",
    "            \"F1-score\": f1_score(y_val, y_val_preds, average='weighted'),\n",
    "            \"Precision\": precision_score(y_val, y_val_preds, average='weighted'),\n",
    "            \"Recall\": recall_score(y_val, y_val_preds, average='weighted')\n",
    "        }\n",
    "\n",
    "        # Save model to file\n",
    "        model_file = f\"{model_save_path}{model_name.replace(' ', '_')}.pkl\"\n",
    "        pd.to_pickle(model, model_file)\n",
    "        print(f\"{model_name} saved to {model_file}\")\n",
    "\n",
    "        # Print classification report\n",
    "        print(f\"\\nClassification Report for {model_name}:\\n{classification_report(y_val, y_val_preds)}\")\n",
    "\n",
    "    return results\n",
    "\n",
    "# Train models and get results\n",
    "baseline_results = train_baseline_models(X_train_tfidf, y_train, X_val_tfidf, y_val)\n"
   ],
   "id": "51c2c4a7f2a8ffc8",
   "outputs": [
    {
     "name": "stdout",
     "output_type": "stream",
     "text": [
      "\n",
      "Training Logistic Regression...\n",
      "Logistic Regression saved to ../models/Logistic_Regression.pkl\n",
      "\n",
      "Classification Report for Logistic Regression:\n",
      "              precision    recall  f1-score   support\n",
      "\n",
      "        -1.0       0.91      0.80      0.85      5682\n",
      "         0.0       0.90      0.98      0.94      8832\n",
      "         1.0       0.93      0.93      0.93     11560\n",
      "\n",
      "    accuracy                           0.92     26074\n",
      "   macro avg       0.92      0.90      0.91     26074\n",
      "weighted avg       0.92      0.92      0.92     26074\n",
      "\n",
      "\n",
      "Training Naive Bayes...\n",
      "Naive Bayes saved to ../models/Naive_Bayes.pkl\n",
      "\n",
      "Classification Report for Naive Bayes:\n",
      "              precision    recall  f1-score   support\n",
      "\n",
      "        -1.0       0.85      0.47      0.61      5682\n",
      "         0.0       0.84      0.71      0.77      8832\n",
      "         1.0       0.69      0.92      0.79     11560\n",
      "\n",
      "    accuracy                           0.75     26074\n",
      "   macro avg       0.79      0.70      0.72     26074\n",
      "weighted avg       0.77      0.75      0.74     26074\n",
      "\n",
      "\n",
      "Training SVM...\n"
     ]
    }
   ],
   "execution_count": null
  },
  {
   "metadata": {},
   "cell_type": "markdown",
   "source": "",
   "id": "8ef601eefbd46adb"
  },
  {
   "metadata": {},
   "cell_type": "code",
   "outputs": [],
   "source": [
    "# Display baseline model performance metrics\n",
    "print(\"\\nBaseline Model Results:\")\n",
    "for model, metrics in baseline_results.items():\n",
    "    print(f\"{model}: {metrics}\")\n"
   ],
   "id": "fac702eb68c3d25d",
   "execution_count": null
  },
  {
   "metadata": {},
   "cell_type": "markdown",
   "source": "",
   "id": "33abc3f8d6cf3fcb"
  },
  {
   "metadata": {},
   "cell_type": "code",
   "outputs": [],
   "source": "",
   "id": "39159ef4bf7ea8b",
   "execution_count": null
  },
  {
   "metadata": {},
   "cell_type": "markdown",
   "source": "",
   "id": "1fef6f32c3d819bd"
  },
  {
   "metadata": {},
   "cell_type": "code",
   "outputs": [],
   "source": "",
   "id": "724a7e79b0d0f38",
   "execution_count": null
  },
  {
   "metadata": {},
   "cell_type": "markdown",
   "source": "",
   "id": "8b859fd5570679a5"
  },
  {
   "metadata": {},
   "cell_type": "code",
   "outputs": [],
   "source": "",
   "id": "d137cd9d950e6a3f",
   "execution_count": null
  },
  {
   "metadata": {},
   "cell_type": "markdown",
   "source": "",
   "id": "b7f8d2d21db3794b"
  },
  {
   "metadata": {},
   "cell_type": "code",
   "outputs": [],
   "source": "",
   "id": "8c6ad1e00cf6ee18",
   "execution_count": null
  },
  {
   "metadata": {},
   "cell_type": "markdown",
   "source": "",
   "id": "131cd9b7e7bd3de9"
  },
  {
   "metadata": {},
   "cell_type": "code",
   "outputs": [],
   "source": "",
   "id": "9a7022f98d5f8a5",
   "execution_count": null
  },
  {
   "metadata": {},
   "cell_type": "markdown",
   "source": "",
   "id": "3de0ed1e7b969d77"
  },
  {
   "metadata": {},
   "cell_type": "code",
   "outputs": [],
   "source": "",
   "id": "a6fdbb12328b2e70",
   "execution_count": null
  },
  {
   "metadata": {},
   "cell_type": "markdown",
   "source": "",
   "id": "e5b556bf28923ada"
  },
  {
   "metadata": {},
   "cell_type": "code",
   "outputs": [],
   "source": "",
   "id": "a28985bb894a1d71",
   "execution_count": null
  },
  {
   "metadata": {},
   "cell_type": "markdown",
   "source": "",
   "id": "7fda0c567261d509"
  },
  {
   "metadata": {},
   "cell_type": "code",
   "outputs": [],
   "source": "",
   "id": "e5e6a390bc70c800",
   "execution_count": null
  }
 ],
 "metadata": {
  "kernelspec": {
   "display_name": "Python 3",
   "language": "python",
   "name": "python3"
  },
  "language_info": {
   "codemirror_mode": {
    "name": "ipython",
    "version": 2
   },
   "file_extension": ".py",
   "mimetype": "text/x-python",
   "name": "python",
   "nbconvert_exporter": "python",
   "pygments_lexer": "ipython2",
   "version": "2.7.6"
  }
 },
 "nbformat": 4,
 "nbformat_minor": 5
}
